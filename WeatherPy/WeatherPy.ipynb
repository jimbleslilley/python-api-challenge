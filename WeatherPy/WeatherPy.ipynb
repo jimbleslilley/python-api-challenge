{
 "cells": [
  {
   "cell_type": "markdown",
   "metadata": {},
   "source": [
    "# WeatherPy\n",
    "----\n",
    "\n",
    "#### Note\n",
    "* Instructions have been included for each segment. You do not have to follow them exactly, but they are included to help you think through the steps."
   ]
  },
  {
   "cell_type": "code",
   "execution_count": 10,
   "metadata": {
    "scrolled": true
   },
   "outputs": [],
   "source": [
    "# Dependencies and Setup\n",
    "import matplotlib.pyplot as plt\n",
    "import pandas as pd\n",
    "import numpy as np\n",
    "import requests\n",
    "import time\n",
    "import datetime\n",
    "import json\n",
    "import requests\n",
    "from scipy.stats import linregress\n",
    "from pprint import pprint\n",
    "\n",
    "# Import API key\n",
    "from api_keys import weather_api_key\n",
    "\n",
    "# Incorporated citipy to determine city based on latitude and longitude\n",
    "from citipy import citipy\n",
    "\n",
    "# Range of latitudes and longitudes\n",
    "lat_range = (-90, 90)\n",
    "lng_range = (-180, 180)\n",
    "\n",
    "#get today's date\n",
    "today = datetime.datetime.now().strftime(\"%d/%m/%Y\")"
   ]
  },
  {
   "cell_type": "markdown",
   "metadata": {},
   "source": [
    "## Generate Cities List"
   ]
  },
  {
   "cell_type": "code",
   "execution_count": 11,
   "metadata": {},
   "outputs": [
    {
     "data": {
      "text/plain": [
       "588"
      ]
     },
     "execution_count": 11,
     "metadata": {},
     "output_type": "execute_result"
    }
   ],
   "source": [
    "# List for holding lat_lngs and cities\n",
    "lat_lngs = []\n",
    "cities = []\n",
    "\n",
    "# Create a set of random lat and lng combinations\n",
    "lats = np.random.uniform(lat_range[0], lat_range[1], size=1500)\n",
    "lngs = np.random.uniform(lng_range[0], lng_range[1], size=1500)\n",
    "lat_lngs = zip(lats, lngs)\n",
    "\n",
    "# Identify nearest city for each lat, lng combination\n",
    "for lat_lng in lat_lngs:\n",
    "    city = citipy.nearest_city(lat_lng[0], lat_lng[1]).city_name\n",
    "    \n",
    "    # If the city is unique, then add it to a our cities list\n",
    "    if city not in cities:\n",
    "        cities.append(city)\n",
    "\n",
    "# Print the city count to confirm sufficient count\n",
    "len(cities)"
   ]
  },
  {
   "cell_type": "markdown",
   "metadata": {},
   "source": [
    "### Perform API Calls\n",
    "* Perform a weather check on each city using a series of successive API calls.\n",
    "* Include a print log of each city as it'sbeing processed (with the city number and city name).\n"
   ]
  },
  {
   "cell_type": "code",
   "execution_count": 12,
   "metadata": {},
   "outputs": [
    {
     "name": "stdout",
     "output_type": "stream",
     "text": [
      "{'base': 'stations',\n",
      " 'clouds': {'all': 97},\n",
      " 'cod': 200,\n",
      " 'coord': {'lat': 52.4561, 'lon': -2.1432},\n",
      " 'dt': 1627592117,\n",
      " 'id': 2636769,\n",
      " 'main': {'feels_like': 287.94,\n",
      "          'humidity': 75,\n",
      "          'pressure': 1009,\n",
      "          'temp': 288.4,\n",
      "          'temp_max': 290.16,\n",
      "          'temp_min': 287.46},\n",
      " 'name': 'Stourbridge',\n",
      " 'sys': {'country': 'GB',\n",
      "         'id': 2012430,\n",
      "         'sunrise': 1627532638,\n",
      "         'sunset': 1627589154,\n",
      "         'type': 2},\n",
      " 'timezone': 3600,\n",
      " 'visibility': 10000,\n",
      " 'weather': [{'description': 'overcast clouds',\n",
      "              'icon': '04n',\n",
      "              'id': 804,\n",
      "              'main': 'Clouds'}],\n",
      " 'wind': {'deg': 197, 'gust': 4.91, 'speed': 2.67}}\n"
     ]
    }
   ],
   "source": [
    "url = \"http://api.openweathermap.org/data/2.5/weather?\"\n",
    "\n",
    "query_url = url + \"appid=\" + weather_api_key + \"&q=\" + \"Stourbridge\"\n",
    "search_result = requests.get(query_url).json()\n",
    "pprint(search_result)"
   ]
  },
  {
   "cell_type": "code",
   "execution_count": 14,
   "metadata": {},
   "outputs": [
    {
     "name": "stdout",
     "output_type": "stream",
     "text": [
      "Beginning Data Retrieval\n",
      "-----------------------------\n",
      "Processing Record 1 of Set 1 | vestmanna\n",
      "Processing Record 2 of Set 1 | hilo\n",
      "Processing Record 3 of Set 1 | bonfim\n",
      "-----------------------------\n",
      "Result 4, Set 1: belushya guba, not found, moving to next result appended\n",
      "-----------------------------\n",
      "Processing Record 5 of Set 1 | guerrero negro\n",
      "Processing Record 6 of Set 1 | arraial do cabo\n",
      "Processing Record 7 of Set 1 | ushuaia\n",
      "Processing Record 8 of Set 1 | port elizabeth\n",
      "Processing Record 9 of Set 1 | provideniya\n",
      "Processing Record 10 of Set 1 | koshurnikovo\n",
      "Processing Record 11 of Set 1 | dikson\n",
      "Processing Record 12 of Set 1 | yulara\n",
      "Processing Record 13 of Set 1 | gamboma\n",
      "Processing Record 14 of Set 1 | puerto ayora\n",
      "Processing Record 15 of Set 1 | severo-kurilsk\n",
      "Processing Record 16 of Set 1 | grindavik\n",
      "Processing Record 17 of Set 1 | albany\n",
      "Processing Record 18 of Set 1 | nizwa\n",
      "Processing Record 19 of Set 1 | cabo san lucas\n",
      "Processing Record 20 of Set 1 | debre zeyit\n",
      "Processing Record 21 of Set 1 | kapaa\n",
      "Processing Record 22 of Set 1 | rikitea\n",
      "Processing Record 23 of Set 1 | barrow\n",
      "Processing Record 24 of Set 1 | tessalit\n",
      "Processing Record 25 of Set 1 | atuona\n",
      "Processing Record 26 of Set 1 | yellowknife\n",
      "Processing Record 27 of Set 1 | ulaangom\n",
      "Processing Record 28 of Set 1 | ipero\n",
      "-----------------------------\n",
      "Result 29, Set 1: kuche, not found, moving to next result appended\n",
      "-----------------------------\n",
      "Processing Record 30 of Set 1 | vila\n",
      "Processing Record 31 of Set 1 | sao miguel do araguaia\n",
      "Processing Record 32 of Set 1 | asau\n",
      "Processing Record 33 of Set 1 | hasaki\n",
      "Processing Record 34 of Set 1 | butaritari\n",
      "Processing Record 35 of Set 1 | bambous virieux\n",
      "Processing Record 36 of Set 1 | chokurdakh\n",
      "Processing Record 37 of Set 1 | raga\n",
      "Processing Record 38 of Set 1 | amudat\n",
      "Processing Record 39 of Set 1 | palana\n",
      "Processing Record 40 of Set 1 | tasiilaq\n",
      "-----------------------------\n",
      "Result 41, Set 1: mys shmidta, not found, moving to next result appended\n",
      "-----------------------------\n",
      "Processing Record 42 of Set 1 | nikolskoye\n",
      "Processing Record 43 of Set 1 | suntar\n",
      "-----------------------------\n",
      "Result 44, Set 1: taolanaro, not found, moving to next result appended\n",
      "-----------------------------\n",
      "Processing Record 45 of Set 1 | saint-philippe\n",
      "Processing Record 46 of Set 1 | ponta do sol\n",
      "Processing Record 47 of Set 1 | carnarvon\n",
      "Processing Record 48 of Set 1 | tuktoyaktuk\n",
      "Processing Record 49 of Set 1 | rawson\n",
      "Processing Record 50 of Set 1 | eureka\n",
      "Processing Record 0 of Set 2 | lagoa\n",
      "Processing Record 1 of Set 2 | mahebourg\n",
      "Processing Record 2 of Set 2 | busselton\n",
      "Processing Record 3 of Set 2 | tuatapere\n",
      "Processing Record 4 of Set 2 | kuito\n",
      "-----------------------------\n",
      "Result 5, Set 2: nizhneyansk, not found, moving to next result appended\n",
      "-----------------------------\n",
      "Processing Record 6 of Set 2 | cape town\n",
      "Processing Record 7 of Set 2 | fort frances\n",
      "-----------------------------\n",
      "Result 8, Set 2: maloshuyka, not found, moving to next result appended\n",
      "-----------------------------\n",
      "Processing Record 9 of Set 2 | svetlaya\n",
      "Processing Record 10 of Set 2 | evensk\n",
      "Processing Record 11 of Set 2 | coolum beach\n",
      "Processing Record 12 of Set 2 | punta arenas\n",
      "Processing Record 13 of Set 2 | cidreira\n",
      "Processing Record 14 of Set 2 | sudbury\n",
      "Processing Record 15 of Set 2 | new norfolk\n",
      "Processing Record 16 of Set 2 | bethel\n",
      "Processing Record 17 of Set 2 | saskylakh\n",
      "Processing Record 18 of Set 2 | santiago\n",
      "Processing Record 19 of Set 2 | hervey bay\n",
      "Processing Record 20 of Set 2 | hobart\n",
      "Processing Record 21 of Set 2 | santa maria del oro\n",
      "Processing Record 22 of Set 2 | lompoc\n",
      "Processing Record 23 of Set 2 | koungou\n",
      "Processing Record 24 of Set 2 | east london\n",
      "Processing Record 25 of Set 2 | ewa beach\n",
      "Processing Record 26 of Set 2 | igarka\n",
      "Processing Record 27 of Set 2 | xiongzhou\n",
      "Processing Record 28 of Set 2 | mataura\n",
      "Processing Record 29 of Set 2 | gat\n",
      "-----------------------------\n",
      "Result 30, Set 2: mocambique, not found, moving to next result appended\n",
      "-----------------------------\n",
      "Processing Record 31 of Set 2 | vaini\n",
      "Processing Record 32 of Set 2 | jamestown\n",
      "Processing Record 33 of Set 2 | senneterre\n",
      "Processing Record 34 of Set 2 | saint-denis\n",
      "Processing Record 35 of Set 2 | manjacaze\n",
      "Processing Record 36 of Set 2 | excelsior springs\n",
      "Processing Record 37 of Set 2 | saint george\n",
      "Processing Record 38 of Set 2 | mar del plata\n",
      "Processing Record 39 of Set 2 | kaitangata\n",
      "-----------------------------\n",
      "Result 40, Set 2: barentsburg, not found, moving to next result appended\n",
      "-----------------------------\n",
      "Processing Record 41 of Set 2 | upernavik\n",
      "-----------------------------\n",
      "Result 42, Set 2: umzimvubu, not found, moving to next result appended\n",
      "-----------------------------\n",
      "Processing Record 43 of Set 2 | sapulpa\n",
      "Processing Record 44 of Set 2 | damghan\n",
      "-----------------------------\n",
      "Result 45, Set 2: almenevo, not found, moving to next result appended\n",
      "-----------------------------\n",
      "Processing Record 46 of Set 2 | maningrida\n",
      "Processing Record 47 of Set 2 | souillac\n",
      "Processing Record 48 of Set 2 | thompson\n",
      "Processing Record 49 of Set 2 | kasongo-lunda\n",
      "-----------------------------\n",
      "Result 50, Set 2: dibaya, not found, moving to next result appended\n",
      "-----------------------------\n",
      "Processing Record 0 of Set 3 | sierra vista\n",
      "Processing Record 1 of Set 3 | shelburne\n",
      "Processing Record 2 of Set 3 | hermanus\n",
      "Processing Record 3 of Set 3 | jinja\n",
      "Processing Record 4 of Set 3 | muisne\n",
      "Processing Record 5 of Set 3 | singkawang\n",
      "Processing Record 6 of Set 3 | quatre cocos\n",
      "Processing Record 7 of Set 3 | ostersund\n",
      "Processing Record 8 of Set 3 | port alfred\n",
      "Processing Record 9 of Set 3 | burns lake\n",
      "Processing Record 10 of Set 3 | castro\n",
      "Processing Record 11 of Set 3 | canton\n",
      "Processing Record 12 of Set 3 | slave lake\n",
      "Processing Record 13 of Set 3 | pekalongan\n",
      "Processing Record 14 of Set 3 | bredasdorp\n",
      "Processing Record 15 of Set 3 | ushtobe\n",
      "Processing Record 16 of Set 3 | kahului\n",
      "Processing Record 17 of Set 3 | makakilo city\n",
      "Processing Record 18 of Set 3 | khatanga\n",
      "Processing Record 19 of Set 3 | ghanzi\n",
      "Processing Record 20 of Set 3 | te anau\n",
      "Processing Record 21 of Set 3 | haines junction\n",
      "Processing Record 22 of Set 3 | iqaluit\n",
      "Processing Record 23 of Set 3 | fortuna\n",
      "Processing Record 24 of Set 3 | kavaratti\n",
      "Processing Record 25 of Set 3 | chuy\n",
      "Processing Record 26 of Set 3 | riviere-au-renard\n",
      "-----------------------------\n",
      "Result 27, Set 3: bur gabo, not found, moving to next result appended\n",
      "-----------------------------\n",
      "Processing Record 28 of Set 3 | mehamn\n",
      "-----------------------------\n",
      "Result 29, Set 3: kopyevo, not found, moving to next result appended\n",
      "-----------------------------\n",
      "-----------------------------\n",
      "Result 30, Set 3: sentyabrskiy, not found, moving to next result appended\n",
      "-----------------------------\n",
      "-----------------------------\n",
      "Result 31, Set 3: illoqqortoormiut, not found, moving to next result appended\n",
      "-----------------------------\n",
      "Processing Record 32 of Set 3 | luderitz\n",
      "Processing Record 33 of Set 3 | qaanaaq\n",
      "Processing Record 34 of Set 3 | morant bay\n",
      "Processing Record 35 of Set 3 | torbay\n",
      "Processing Record 36 of Set 3 | leningradskiy\n",
      "Processing Record 37 of Set 3 | ciudad bolivar\n",
      "Processing Record 38 of Set 3 | kloulklubed\n",
      "-----------------------------\n",
      "Result 39, Set 3: amderma, not found, moving to next result appended\n",
      "-----------------------------\n",
      "Processing Record 40 of Set 3 | esperance\n",
      "Processing Record 41 of Set 3 | storvorde\n",
      "Processing Record 42 of Set 3 | pujehun\n",
      "Processing Record 43 of Set 3 | krasnoselkup\n",
      "Processing Record 44 of Set 3 | vaike-maarja\n",
      "Processing Record 45 of Set 3 | cockburn town\n",
      "Processing Record 46 of Set 3 | balykshi\n",
      "Processing Record 47 of Set 3 | matara\n",
      "Processing Record 48 of Set 3 | bluff\n",
      "Processing Record 49 of Set 3 | hun\n",
      "Processing Record 50 of Set 3 | berlevag\n",
      "Processing Record 0 of Set 4 | cherskiy\n",
      "Processing Record 1 of Set 4 | sistranda\n",
      "Processing Record 2 of Set 4 | narsaq\n",
      "Processing Record 3 of Set 4 | kerema\n",
      "Processing Record 4 of Set 4 | verkhoyansk\n",
      "Processing Record 5 of Set 4 | marawi\n",
      "Processing Record 6 of Set 4 | kodiak\n",
      "Processing Record 7 of Set 4 | pisco\n",
      "Processing Record 8 of Set 4 | saldanha\n",
      "Processing Record 9 of Set 4 | port blair\n"
     ]
    },
    {
     "name": "stdout",
     "output_type": "stream",
     "text": [
      "Processing Record 10 of Set 4 | bara\n",
      "Processing Record 11 of Set 4 | longyearbyen\n",
      "Processing Record 12 of Set 4 | yaan\n",
      "Processing Record 13 of Set 4 | georgetown\n",
      "Processing Record 14 of Set 4 | airai\n",
      "Processing Record 15 of Set 4 | mount isa\n",
      "Processing Record 16 of Set 4 | buchanan\n",
      "Processing Record 17 of Set 4 | atambua\n",
      "Processing Record 18 of Set 4 | aklavik\n",
      "Processing Record 19 of Set 4 | baykit\n",
      "Processing Record 20 of Set 4 | porto-vecchio\n",
      "Processing Record 21 of Set 4 | two rivers\n",
      "Processing Record 22 of Set 4 | beloha\n",
      "Processing Record 23 of Set 4 | mnogovershinnyy\n",
      "Processing Record 24 of Set 4 | porto novo\n",
      "Processing Record 25 of Set 4 | georgiyevka\n",
      "Processing Record 26 of Set 4 | norman wells\n",
      "Processing Record 27 of Set 4 | sao filipe\n",
      "Processing Record 28 of Set 4 | tura\n",
      "Processing Record 29 of Set 4 | kruisfontein\n",
      "-----------------------------\n",
      "Result 30, Set 4: vaitupu, not found, moving to next result appended\n",
      "-----------------------------\n",
      "Processing Record 31 of Set 4 | ginir\n",
      "Processing Record 32 of Set 4 | piacabucu\n",
      "Processing Record 33 of Set 4 | san juan\n",
      "Processing Record 34 of Set 4 | bathsheba\n",
      "Processing Record 35 of Set 4 | hovd\n",
      "Processing Record 36 of Set 4 | bosaso\n",
      "Processing Record 37 of Set 4 | barcelona\n",
      "Processing Record 38 of Set 4 | avarua\n",
      "Processing Record 39 of Set 4 | san patricio\n",
      "Processing Record 40 of Set 4 | marsh harbour\n",
      "Processing Record 41 of Set 4 | riyadh\n",
      "Processing Record 42 of Set 4 | vangaindrano\n",
      "Processing Record 43 of Set 4 | lebu\n",
      "Processing Record 44 of Set 4 | nome\n",
      "Processing Record 45 of Set 4 | ahome\n",
      "Processing Record 46 of Set 4 | ayia galini\n",
      "Processing Record 47 of Set 4 | fort nelson\n",
      "Processing Record 48 of Set 4 | kupang\n",
      "Processing Record 49 of Set 4 | pevek\n",
      "Processing Record 50 of Set 4 | sitka\n",
      "Processing Record 0 of Set 5 | ekibastuz\n",
      "Processing Record 1 of Set 5 | sungurlu\n",
      "Processing Record 2 of Set 5 | port macquarie\n",
      "Processing Record 3 of Set 5 | talnakh\n",
      "Processing Record 4 of Set 5 | road town\n",
      "Processing Record 5 of Set 5 | bandarbeyla\n",
      "Processing Record 6 of Set 5 | shimoda\n",
      "Processing Record 7 of Set 5 | puerto baquerizo moreno\n",
      "Processing Record 8 of Set 5 | cubuk\n",
      "Processing Record 9 of Set 5 | lukovetskiy\n",
      "Processing Record 10 of Set 5 | geraldton\n",
      "Processing Record 11 of Set 5 | portland\n",
      "Processing Record 12 of Set 5 | gornopravdinsk\n",
      "Processing Record 13 of Set 5 | minudasht\n",
      "Processing Record 14 of Set 5 | klaksvik\n",
      "Processing Record 15 of Set 5 | tiarei\n",
      "Processing Record 16 of Set 5 | peto\n",
      "Processing Record 17 of Set 5 | natal\n",
      "Processing Record 18 of Set 5 | taoudenni\n",
      "Processing Record 19 of Set 5 | port hardy\n",
      "Processing Record 20 of Set 5 | burton\n",
      "Processing Record 21 of Set 5 | almeria\n",
      "Processing Record 22 of Set 5 | hay river\n",
      "Processing Record 23 of Set 5 | vao\n",
      "Processing Record 24 of Set 5 | san luis\n",
      "-----------------------------\n",
      "Result 25, Set 5: phan rang, not found, moving to next result appended\n",
      "-----------------------------\n",
      "Processing Record 26 of Set 5 | cayenne\n",
      "Processing Record 27 of Set 5 | bowen\n",
      "-----------------------------\n",
      "Result 28, Set 5: malwan, not found, moving to next result appended\n",
      "-----------------------------\n",
      "Processing Record 29 of Set 5 | constantine\n",
      "Processing Record 30 of Set 5 | saint-augustin\n",
      "Processing Record 31 of Set 5 | murmashi\n",
      "Processing Record 32 of Set 5 | vardo\n",
      "Processing Record 33 of Set 5 | leshukonskoye\n",
      "Processing Record 34 of Set 5 | rio grande\n",
      "Processing Record 35 of Set 5 | mount gambier\n",
      "Processing Record 36 of Set 5 | kirkuk\n",
      "Processing Record 37 of Set 5 | xiangxiang\n",
      "Processing Record 38 of Set 5 | meulaboh\n",
      "-----------------------------\n",
      "Result 39, Set 5: samalaeulu, not found, moving to next result appended\n",
      "-----------------------------\n",
      "Processing Record 40 of Set 5 | anito\n",
      "Processing Record 41 of Set 5 | hithadhoo\n",
      "-----------------------------\n",
      "Result 42, Set 5: attawapiskat, not found, moving to next result appended\n",
      "-----------------------------\n",
      "Processing Record 43 of Set 5 | talaya\n",
      "Processing Record 44 of Set 5 | faanui\n",
      "Processing Record 45 of Set 5 | porbandar\n",
      "Processing Record 46 of Set 5 | buala\n",
      "Processing Record 47 of Set 5 | egvekinot\n",
      "Processing Record 48 of Set 5 | cooma\n",
      "Processing Record 49 of Set 5 | ribeira grande\n",
      "Processing Record 50 of Set 5 | ridgecrest\n",
      "Processing Record 0 of Set 6 | talovaya\n",
      "Processing Record 1 of Set 6 | mogadishu\n",
      "Processing Record 2 of Set 6 | praia da vitoria\n",
      "Processing Record 3 of Set 6 | aller\n",
      "Processing Record 4 of Set 6 | batagay-alyta\n",
      "Processing Record 5 of Set 6 | povorino\n",
      "Processing Record 6 of Set 6 | matagami\n",
      "Processing Record 7 of Set 6 | mayumba\n",
      "Processing Record 8 of Set 6 | zyryanka\n",
      "Processing Record 9 of Set 6 | boa vista\n",
      "Processing Record 10 of Set 6 | sabang\n",
      "Processing Record 11 of Set 6 | karuzi\n",
      "Processing Record 12 of Set 6 | malakal\n",
      "Processing Record 13 of Set 6 | lazaro cardenas\n",
      "Processing Record 14 of Set 6 | jinka\n",
      "Processing Record 15 of Set 6 | huambo\n",
      "Processing Record 16 of Set 6 | koumac\n",
      "Processing Record 17 of Set 6 | nanhai\n",
      "Processing Record 18 of Set 6 | korla\n",
      "Processing Record 19 of Set 6 | mragowo\n",
      "Processing Record 20 of Set 6 | great yarmouth\n",
      "Processing Record 21 of Set 6 | maniitsoq\n",
      "Processing Record 22 of Set 6 | salalah\n",
      "Processing Record 23 of Set 6 | tilichiki\n",
      "Processing Record 24 of Set 6 | saint anthony\n",
      "Processing Record 25 of Set 6 | kapuskasing\n",
      "Processing Record 26 of Set 6 | hami\n",
      "Processing Record 27 of Set 6 | prince rupert\n",
      "Processing Record 28 of Set 6 | victoria\n",
      "Processing Record 29 of Set 6 | namatanai\n",
      "-----------------------------\n",
      "Result 30, Set 6: wahran, not found, moving to next result appended\n",
      "-----------------------------\n",
      "Processing Record 31 of Set 6 | avera\n",
      "Processing Record 32 of Set 6 | abha\n",
      "Processing Record 33 of Set 6 | buin\n",
      "Processing Record 34 of Set 6 | tongchuan\n",
      "Processing Record 35 of Set 6 | rundu\n",
      "Processing Record 36 of Set 6 | grand gaube\n",
      "Processing Record 37 of Set 6 | deputatskiy\n",
      "Processing Record 38 of Set 6 | labuhan\n",
      "Processing Record 39 of Set 6 | sayyan\n",
      "Processing Record 40 of Set 6 | toktogul\n",
      "Processing Record 41 of Set 6 | peniche\n",
      "Processing Record 42 of Set 6 | nikolayevka\n",
      "Processing Record 43 of Set 6 | banjar\n",
      "Processing Record 44 of Set 6 | mandsaur\n",
      "Processing Record 45 of Set 6 | port hedland\n",
      "Processing Record 46 of Set 6 | oskaloosa\n",
      "Processing Record 47 of Set 6 | saint-louis\n",
      "Processing Record 48 of Set 6 | san cristobal\n",
      "Processing Record 49 of Set 6 | hirara\n",
      "Processing Record 50 of Set 6 | pangnirtung\n",
      "Processing Record 0 of Set 7 | los llanos de aridane\n",
      "Processing Record 1 of Set 7 | colquechaca\n",
      "Processing Record 2 of Set 7 | robertsport\n",
      "Processing Record 3 of Set 7 | paamiut\n",
      "Processing Record 4 of Set 7 | soe\n",
      "Processing Record 5 of Set 7 | sulangan\n",
      "Processing Record 6 of Set 7 | kamyaran\n",
      "Processing Record 7 of Set 7 | westport\n",
      "Processing Record 8 of Set 7 | vizinga\n",
      "Processing Record 9 of Set 7 | berezovyy\n",
      "Processing Record 10 of Set 7 | college\n",
      "Processing Record 11 of Set 7 | tiksi\n",
      "Processing Record 12 of Set 7 | loughborough\n",
      "Processing Record 13 of Set 7 | hualmay\n",
      "Processing Record 14 of Set 7 | nouadhibou\n",
      "Processing Record 15 of Set 7 | belize\n",
      "Processing Record 16 of Set 7 | namuac\n",
      "Processing Record 17 of Set 7 | dingle\n",
      "Processing Record 18 of Set 7 | beinamar\n",
      "Processing Record 19 of Set 7 | san vicente\n",
      "-----------------------------\n",
      "Result 20, Set 7: grand river south east, not found, moving to next result appended\n",
      "-----------------------------\n",
      "-----------------------------\n",
      "Result 21, Set 7: grande-riviere, not found, moving to next result appended\n",
      "-----------------------------\n",
      "Processing Record 22 of Set 7 | port keats\n",
      "Processing Record 23 of Set 7 | northeim\n",
      "Processing Record 24 of Set 7 | northam\n",
      "Processing Record 25 of Set 7 | ilulissat\n",
      "Processing Record 26 of Set 7 | bom jesus da lapa\n",
      "Processing Record 27 of Set 7 | letnyaya stavka\n",
      "Processing Record 28 of Set 7 | oranjemund\n",
      "Processing Record 29 of Set 7 | herat\n",
      "Processing Record 30 of Set 7 | tautira\n",
      "Processing Record 31 of Set 7 | rantepao\n",
      "Processing Record 32 of Set 7 | goderich\n",
      "Processing Record 33 of Set 7 | harper\n",
      "Processing Record 34 of Set 7 | kutum\n",
      "Processing Record 35 of Set 7 | rock sound\n",
      "-----------------------------\n",
      "Result 36, Set 7: samusu, not found, moving to next result appended\n",
      "-----------------------------\n",
      "Processing Record 37 of Set 7 | blackwater\n",
      "Processing Record 38 of Set 7 | xianyang\n"
     ]
    },
    {
     "name": "stdout",
     "output_type": "stream",
     "text": [
      "Processing Record 39 of Set 7 | fairbanks\n",
      "Processing Record 40 of Set 7 | meleuz\n",
      "Processing Record 41 of Set 7 | puerto ayacucho\n",
      "Processing Record 42 of Set 7 | kingisepp\n",
      "Processing Record 43 of Set 7 | ladario\n",
      "Processing Record 44 of Set 7 | kabompo\n",
      "Processing Record 45 of Set 7 | dalby\n",
      "Processing Record 46 of Set 7 | requena\n",
      "Processing Record 47 of Set 7 | biak\n",
      "Processing Record 48 of Set 7 | svetlogorsk\n",
      "Processing Record 49 of Set 7 | kungurtug\n",
      "Processing Record 50 of Set 7 | beringovskiy\n",
      "Processing Record 0 of Set 8 | moose factory\n",
      "Processing Record 1 of Set 8 | vaitape\n",
      "Processing Record 2 of Set 8 | isangel\n",
      "Processing Record 3 of Set 8 | coari\n",
      "-----------------------------\n",
      "Result 4, Set 8: petrolandia, not found, moving to next result appended\n",
      "-----------------------------\n",
      "-----------------------------\n",
      "Result 5, Set 8: nguiu, not found, moving to next result appended\n",
      "-----------------------------\n",
      "Processing Record 6 of Set 8 | san felipe\n",
      "-----------------------------\n",
      "Result 7, Set 8: hihifo, not found, moving to next result appended\n",
      "-----------------------------\n",
      "Processing Record 8 of Set 8 | dondo\n",
      "Processing Record 9 of Set 8 | savonlinna\n",
      "Processing Record 10 of Set 8 | troitsko-pechorsk\n",
      "Processing Record 11 of Set 8 | srednekolymsk\n",
      "-----------------------------\n",
      "Result 12, Set 8: gorno-chuyskiy, not found, moving to next result appended\n",
      "-----------------------------\n",
      "Processing Record 13 of Set 8 | vathi\n",
      "Processing Record 14 of Set 8 | buenos aires\n",
      "Processing Record 15 of Set 8 | waingapu\n",
      "Processing Record 16 of Set 8 | senador jose porfirio\n",
      "Processing Record 17 of Set 8 | henties bay\n",
      "Processing Record 18 of Set 8 | abrau-dyurso\n",
      "Processing Record 19 of Set 8 | port hawkesbury\n",
      "Processing Record 20 of Set 8 | rio gallegos\n",
      "Processing Record 21 of Set 8 | tyler\n",
      "Processing Record 22 of Set 8 | zig\n",
      "Processing Record 23 of Set 8 | shache\n",
      "Processing Record 24 of Set 8 | caravelas\n",
      "Processing Record 25 of Set 8 | lazarev\n",
      "Processing Record 26 of Set 8 | shingu\n",
      "Processing Record 27 of Set 8 | karratha\n",
      "Processing Record 28 of Set 8 | riohacha\n",
      "Processing Record 29 of Set 8 | mauganj\n",
      "Processing Record 30 of Set 8 | broome\n",
      "-----------------------------\n",
      "Result 31, Set 8: palabuhanratu, not found, moving to next result appended\n",
      "-----------------------------\n",
      "-----------------------------\n",
      "Result 32, Set 8: tsihombe, not found, moving to next result appended\n",
      "-----------------------------\n",
      "Processing Record 33 of Set 8 | shakawe\n",
      "Processing Record 34 of Set 8 | davila\n",
      "Processing Record 35 of Set 8 | keokuk\n",
      "Processing Record 36 of Set 8 | laramie\n",
      "Processing Record 37 of Set 8 | umm kaddadah\n",
      "Processing Record 38 of Set 8 | llorente\n",
      "Processing Record 39 of Set 8 | robertson\n",
      "Processing Record 40 of Set 8 | okhotsk\n",
      "Processing Record 41 of Set 8 | ketchikan\n",
      "Processing Record 42 of Set 8 | naze\n",
      "Processing Record 43 of Set 8 | lavrentiya\n",
      "Processing Record 44 of Set 8 | binabalian\n",
      "Processing Record 45 of Set 8 | alofi\n",
      "Processing Record 46 of Set 8 | ozernovskiy\n",
      "Processing Record 47 of Set 8 | oyo\n",
      "Processing Record 48 of Set 8 | thohoyandou\n",
      "Processing Record 49 of Set 8 | livingston\n",
      "Processing Record 50 of Set 8 | haapiti\n",
      "Processing Record 0 of Set 9 | srandakan\n",
      "Processing Record 1 of Set 9 | loandjili\n",
      "Processing Record 2 of Set 9 | hue\n",
      "Processing Record 3 of Set 9 | bengkulu\n",
      "Processing Record 4 of Set 9 | saint-joseph\n",
      "Processing Record 5 of Set 9 | pitimbu\n",
      "Processing Record 6 of Set 9 | zyryanskoye\n",
      "Processing Record 7 of Set 9 | ous\n",
      "Processing Record 8 of Set 9 | kaeo\n",
      "Processing Record 9 of Set 9 | valentin gomez farias\n",
      "Processing Record 10 of Set 9 | prado\n",
      "Processing Record 11 of Set 9 | corrente\n",
      "Processing Record 12 of Set 9 | camargo\n",
      "Processing Record 13 of Set 9 | cap malheureux\n",
      "Processing Record 14 of Set 9 | la rochelle\n",
      "Processing Record 15 of Set 9 | barao de melgaco\n",
      "Processing Record 16 of Set 9 | xinzhi\n",
      "Processing Record 17 of Set 9 | calvia\n",
      "Processing Record 18 of Set 9 | curup\n",
      "Processing Record 19 of Set 9 | mao\n",
      "Processing Record 20 of Set 9 | erzin\n",
      "Processing Record 21 of Set 9 | tazovskiy\n",
      "Processing Record 22 of Set 9 | kamenka\n",
      "Processing Record 23 of Set 9 | batie\n",
      "Processing Record 24 of Set 9 | sabha\n",
      "Processing Record 25 of Set 9 | wewak\n",
      "Processing Record 26 of Set 9 | tocopilla\n",
      "Processing Record 27 of Set 9 | karlskrona\n",
      "Processing Record 28 of Set 9 | camocim\n",
      "-----------------------------\n",
      "Result 29, Set 9: tumannyy, not found, moving to next result appended\n",
      "-----------------------------\n",
      "Processing Record 30 of Set 9 | kalia\n",
      "Processing Record 31 of Set 9 | havre-saint-pierre\n",
      "-----------------------------\n",
      "Result 32, Set 9: halalo, not found, moving to next result appended\n",
      "-----------------------------\n",
      "Processing Record 33 of Set 9 | kitimat\n",
      "Processing Record 34 of Set 9 | iskateley\n",
      "Processing Record 35 of Set 9 | pangody\n",
      "Processing Record 36 of Set 9 | honiara\n",
      "-----------------------------\n",
      "Result 37, Set 9: grand centre, not found, moving to next result appended\n",
      "-----------------------------\n",
      "Processing Record 38 of Set 9 | plettenberg bay\n",
      "Processing Record 39 of Set 9 | minab\n",
      "Processing Record 40 of Set 9 | anadyr\n",
      "Processing Record 41 of Set 9 | vanimo\n",
      "Processing Record 42 of Set 9 | bani walid\n",
      "Processing Record 43 of Set 9 | jefferson city\n",
      "Processing Record 44 of Set 9 | panaba\n",
      "Processing Record 45 of Set 9 | cartagena\n",
      "Processing Record 46 of Set 9 | linxia\n",
      "Processing Record 47 of Set 9 | adrar\n",
      "Processing Record 48 of Set 9 | gainesville\n",
      "Processing Record 49 of Set 9 | jalu\n",
      "Processing Record 50 of Set 9 | zhezkazgan\n",
      "Processing Record 0 of Set 10 | nara\n",
      "Processing Record 1 of Set 10 | port-gentil\n",
      "Processing Record 2 of Set 10 | mushie\n",
      "Processing Record 3 of Set 10 | jibuti\n",
      "Processing Record 4 of Set 10 | magdalena\n",
      "Processing Record 5 of Set 10 | ocean city\n",
      "Processing Record 6 of Set 10 | oussouye\n",
      "Processing Record 7 of Set 10 | nanortalik\n",
      "Processing Record 8 of Set 10 | olafsvik\n",
      "Processing Record 9 of Set 10 | folldal\n",
      "Processing Record 10 of Set 10 | baruun-urt\n",
      "Processing Record 11 of Set 10 | kualakapuas\n",
      "Processing Record 12 of Set 10 | kalabo\n",
      "Processing Record 13 of Set 10 | yeppoon\n",
      "Processing Record 14 of Set 10 | kamaishi\n",
      "Processing Record 15 of Set 10 | belfast\n",
      "Processing Record 16 of Set 10 | husavik\n",
      "Processing Record 17 of Set 10 | grandview\n",
      "Processing Record 18 of Set 10 | yumen\n",
      "Processing Record 19 of Set 10 | lasa\n",
      "Processing Record 20 of Set 10 | santa maria\n",
      "Processing Record 21 of Set 10 | sao joao da barra\n",
      "Processing Record 22 of Set 10 | san jose\n",
      "Processing Record 23 of Set 10 | coahuayana\n",
      "Processing Record 24 of Set 10 | qom\n",
      "Processing Record 25 of Set 10 | axim\n",
      "Processing Record 26 of Set 10 | el tarra\n",
      "Processing Record 27 of Set 10 | polis\n",
      "Processing Record 28 of Set 10 | katsuura\n",
      "Processing Record 29 of Set 10 | jatiroto\n",
      "Processing Record 30 of Set 10 | rangpur\n",
      "Processing Record 31 of Set 10 | villamontes\n",
      "Processing Record 32 of Set 10 | keningau\n",
      "Processing Record 33 of Set 10 | markova\n",
      "Processing Record 34 of Set 10 | jiaozuo\n",
      "Processing Record 35 of Set 10 | mandera\n",
      "Processing Record 36 of Set 10 | scarborough\n",
      "Processing Record 37 of Set 10 | bilibino\n",
      "Processing Record 38 of Set 10 | tual\n",
      "Processing Record 39 of Set 10 | minas novas\n",
      "Processing Record 40 of Set 10 | san pelayo\n",
      "Processing Record 41 of Set 10 | arcata\n",
      "Processing Record 42 of Set 10 | balabac\n",
      "Processing Record 43 of Set 10 | ipameri\n",
      "Processing Record 44 of Set 10 | ancud\n",
      "Processing Record 45 of Set 10 | mayo\n",
      "Processing Record 46 of Set 10 | chicama\n",
      "Processing Record 47 of Set 10 | ahipara\n",
      "Processing Record 48 of Set 10 | gold coast\n",
      "Processing Record 49 of Set 10 | hadrut\n",
      "Processing Record 50 of Set 10 | calabozo\n",
      "Processing Record 0 of Set 11 | torrington\n",
      "Processing Record 1 of Set 11 | kingman\n",
      "Processing Record 2 of Set 11 | aasiaat\n",
      "Processing Record 3 of Set 11 | general pico\n",
      "Processing Record 4 of Set 11 | walvis bay\n",
      "Processing Record 5 of Set 11 | merauke\n",
      "Processing Record 6 of Set 11 | mantenopolis\n",
      "Processing Record 7 of Set 11 | vila franca do campo\n",
      "Processing Record 8 of Set 11 | maragogi\n",
      "Processing Record 9 of Set 11 | dunedin\n",
      "Processing Record 10 of Set 11 | shahrud\n",
      "Processing Record 11 of Set 11 | genhe\n",
      "Processing Record 12 of Set 11 | margate\n",
      "Processing Record 13 of Set 11 | vostok\n"
     ]
    },
    {
     "name": "stdout",
     "output_type": "stream",
     "text": [
      "Processing Record 14 of Set 11 | jizan\n",
      "Processing Record 15 of Set 11 | kalemie\n",
      "Processing Record 16 of Set 11 | abu dhabi\n",
      "Processing Record 17 of Set 11 | la rioja\n",
      "Processing Record 18 of Set 11 | qasigiannguit\n",
      "Processing Record 19 of Set 11 | nyaunglebin\n",
      "Processing Record 20 of Set 11 | pochinki\n",
      "Processing Record 21 of Set 11 | panjab\n",
      "Processing Record 22 of Set 11 | haizhou\n",
      "Processing Record 23 of Set 11 | sattahip\n",
      "Processing Record 24 of Set 11 | laguna\n",
      "Processing Record 25 of Set 11 | iquique\n",
      "Processing Record 26 of Set 11 | florianopolis\n",
      "Processing Record 27 of Set 11 | keetmanshoop\n",
      "Processing Record 28 of Set 11 | vigrestad\n",
      "Processing Record 29 of Set 11 | carmen\n",
      "Processing Record 30 of Set 11 | khash\n",
      "Processing Record 31 of Set 11 | whitehorse\n",
      "Processing Record 32 of Set 11 | khuzhir\n",
      "Processing Record 33 of Set 11 | islamkot\n",
      "Processing Record 34 of Set 11 | pokosnoye\n",
      "Processing Record 35 of Set 11 | thetford mines\n",
      "Processing Record 36 of Set 11 | panama city\n",
      "-----------------------------\n",
      "Result 37, Set 11: meyungs, not found, moving to next result appended\n",
      "-----------------------------\n",
      "Processing Record 38 of Set 11 | llangefni\n",
      "-----------------------------\n",
      "Result 39, Set 11: karauzyak, not found, moving to next result appended\n",
      "-----------------------------\n",
      "Processing Record 40 of Set 11 | lata\n",
      "Processing Record 41 of Set 11 | bystryy istok\n",
      "Processing Record 42 of Set 11 | ambilobe\n",
      "Processing Record 43 of Set 11 | troitskoye\n",
      "Processing Record 44 of Set 11 | mercedes\n",
      "Processing Record 45 of Set 11 | nalut\n",
      "-----------------------------\n",
      "Result 46, Set 11: urdzhar, not found, moving to next result appended\n",
      "-----------------------------\n",
      "Processing Record 47 of Set 11 | constitucion\n",
      "Processing Record 48 of Set 11 | hammerfest\n",
      "Processing Record 49 of Set 11 | mollendo\n",
      "Processing Record 50 of Set 11 | grenfell\n",
      "Processing Record 0 of Set 12 | mbanza-ngungu\n",
      "Processing Record 1 of Set 12 | padang\n",
      "Processing Record 2 of Set 12 | sungaipenuh\n",
      "Processing Record 3 of Set 12 | ozu\n",
      "Processing Record 4 of Set 12 | sur\n",
      "Processing Record 5 of Set 12 | araouane\n",
      "Processing Record 6 of Set 12 | tabuk\n",
      "Processing Record 7 of Set 12 | karabulak\n",
      "Processing Record 8 of Set 12 | lorengau\n",
      "Processing Record 9 of Set 12 | hambantota\n",
      "Processing Record 10 of Set 12 | beroroha\n",
      "Processing Record 11 of Set 12 | clyde river\n",
      "Processing Record 12 of Set 12 | salina\n",
      "Processing Record 13 of Set 12 | noumea\n",
      "Processing Record 14 of Set 12 | monrovia\n",
      "Processing Record 15 of Set 12 | antofagasta\n",
      "Processing Record 16 of Set 12 | sao jose do calcado\n",
      "Processing Record 17 of Set 12 | pemangkat\n",
      "Processing Record 18 of Set 12 | hofn\n",
      "Processing Record 19 of Set 12 | lianzhou\n",
      "Processing Record 20 of Set 12 | labrea\n",
      "Processing Record 21 of Set 12 | cabra\n",
      "Processing Record 22 of Set 12 | pringsewu\n",
      "-----------------------------\n",
      "Result 23, Set 12: krasnoyarsk-45, not found, moving to next result appended\n",
      "-----------------------------\n",
      "Processing Record 24 of Set 12 | xining\n",
      "Processing Record 25 of Set 12 | inuvik\n",
      "-----------------------------\n",
      "Result 26, Set 12: balimo, not found, moving to next result appended\n",
      "-----------------------------\n",
      "Processing Record 27 of Set 12 | gibara\n",
      "-----------------------------\n",
      "Data Retrieval Complete\n",
      "-----------------------------\n"
     ]
    }
   ],
   "source": [
    "#lists to store data\n",
    "city_id_list = []\n",
    "city_list = []\n",
    "cloudiness_list = []\n",
    "country_list = []\n",
    "date_list = []\n",
    "humidity_list = []\n",
    "lat_list = []\n",
    "lng_list = [] \n",
    "max_temp_list = [] \n",
    "wind_speed_list = []\n",
    "\n",
    "#counter instead of using position in list (fix later)\n",
    "i = 1\n",
    "x = 1\n",
    "count_set = 1\n",
    "# Set url for API\n",
    "url = \"http://api.openweathermap.org/data/2.5/weather?\"\n",
    "\n",
    "print(\"Beginning Data Retrieval\\n-----------------------------\")\n",
    "\n",
    "for city in cities:\n",
    "    #search every result\n",
    "    query_url = url + \"appid=\" + weather_api_key + \"&q=\" + city\n",
    "    search_result = requests.get(query_url).json()\n",
    "    try: \n",
    "        #try if name can append\n",
    "        city_append = city_list.append(search_result[\"name\"])\n",
    "        cloudiness = cloudiness_list.append(search_result[\"clouds\"][\"all\"])\n",
    "        country = country_list.append(search_result[\"sys\"][\"country\"])\n",
    "        date = date_list.append(search_result[\"dt\"])\n",
    "        humidity = humidity_list.append(search_result[\"main\"][\"humidity\"]) \n",
    "        lat = lat_list.append(search_result[\"coord\"][\"lat\"]) \n",
    "        lng = lng_list.append(search_result[\"coord\"][\"lon\"]) \n",
    "        max_temp = max_temp_list.append(search_result[\"main\"][\"temp_max\"]) \n",
    "        wind_speed = wind_speed_list.append(search_result[\"wind\"][\"speed\"])\n",
    "        city_id = city_id_list.append(i)\n",
    "        print(f\"Processing Record {x} of Set {count_set} | {city}\")\n",
    "    except KeyError: \n",
    "        #print error message if name cannot append\n",
    "        print(f\"-----------------------------\\nResult {x}, Set {count_set}: {city}, not found, moving to next result appended\\n-----------------------------\")\n",
    "    \n",
    "    i = i + 1\n",
    "    x = x + 1\n",
    "    if x > 50:\n",
    "        x = 0\n",
    "        count_set = count_set + 1\n",
    "        time.sleep(60)\n",
    "    \n",
    "#inform of finished process\n",
    "print(\"-----------------------------\\nData Retrieval Complete\\n-----------------------------\")"
   ]
  },
  {
   "cell_type": "code",
   "execution_count": 13,
   "metadata": {},
   "outputs": [
    {
     "name": "stdout",
     "output_type": "stream",
     "text": [
      "Beginning Data Retrieval\n",
      "-----------------------------\n",
      "Processing Record 1 of Set 1 | London\n",
      "-----------------------------\n",
      "Data Retrieval Complete\n",
      "-----------------------------\n"
     ]
    },
    {
     "data": {
      "text/plain": [
       "{'coord': {'lon': -0.1257, 'lat': 51.5085},\n",
       " 'weather': [{'id': 804,\n",
       "   'main': 'Clouds',\n",
       "   'description': 'overcast clouds',\n",
       "   'icon': '04n'}],\n",
       " 'base': 'stations',\n",
       " 'main': {'temp': 289.83,\n",
       "  'feels_like': 289.38,\n",
       "  'temp_min': 287.79,\n",
       "  'temp_max': 291.24,\n",
       "  'pressure': 1010,\n",
       "  'humidity': 70},\n",
       " 'visibility': 10000,\n",
       " 'wind': {'speed': 4.63, 'deg': 230},\n",
       " 'clouds': {'all': 88},\n",
       " 'dt': 1627592081,\n",
       " 'sys': {'type': 2,\n",
       "  'id': 2019646,\n",
       "  'country': 'GB',\n",
       "  'sunrise': 1627532389,\n",
       "  'sunset': 1627588434},\n",
       " 'timezone': 3600,\n",
       " 'id': 2643743,\n",
       " 'name': 'London',\n",
       " 'cod': 200}"
      ]
     },
     "execution_count": 13,
     "metadata": {},
     "output_type": "execute_result"
    }
   ],
   "source": [
    "#lists to store data\n",
    "city_id_list = []\n",
    "city_list = []\n",
    "cloudiness_list = []\n",
    "country_list = []\n",
    "date_list = []\n",
    "humidity_list = []\n",
    "lat_list = []\n",
    "lng_list = [] \n",
    "max_temp_list = [] \n",
    "wind_speed_list = []\n",
    "\n",
    "#counter instead of using position in list (fix later)\n",
    "i = 1\n",
    "x = 1\n",
    "count_set = 1\n",
    "# Set url for API\n",
    "url = \"http://api.openweathermap.org/data/2.5/weather?\"\n",
    "\n",
    "print(\"Beginning Data Retrieval\\n-----------------------------\")\n",
    "\n",
    "city = \"London\"\n",
    "query_url = url + \"appid=\" + weather_api_key + \"&q=\" + city\n",
    "search_result = requests.get(query_url).json()\n",
    "try: \n",
    "    #try if name can append\n",
    "    city_append = city_list.append(search_result[\"name\"])\n",
    "    cloudiness = cloudiness_list.append(search_result[\"clouds\"][\"all\"])\n",
    "    country = country_list.append(search_result[\"sys\"][\"country\"])\n",
    "    date = date_list.append(search_result[\"dt\"])\n",
    "    humidity = humidity_list.append(search_result[\"main\"][\"humidity\"]) \n",
    "    lat = lat_list.append(search_result[\"coord\"][\"lat\"]) \n",
    "    lng = lng_list.append(search_result[\"coord\"][\"lon\"]) \n",
    "    max_temp = max_temp_list.append(search_result[\"main\"][\"temp_max\"]) \n",
    "    wind_speed = wind_speed_list.append(search_result[\"wind\"][\"speed\"])\n",
    "    city_id = city_id_list.append(i)\n",
    "    print(f\"Processing Record {x} of Set {count_set} | {city}\")\n",
    "except KeyError: \n",
    "    #print error message if name cannot append\n",
    "    print(f\"-----------------------------\\nResult {x}, Set {count_set}: {city}, not found, moving to next result appended\\n-----------------------------\")\n",
    "\n",
    "i = i + 1\n",
    "x = x + 1\n",
    "if x > 50:\n",
    "    x = 0\n",
    "    count_set = count_set + 1\n",
    "    time.sleep(60)\n",
    "\n",
    "#inform of finished process\n",
    "print(\"-----------------------------\\nData Retrieval Complete\\n-----------------------------\")\n",
    "\n",
    "search_result"
   ]
  },
  {
   "cell_type": "markdown",
   "metadata": {},
   "source": [
    "### Convert Raw Data to DataFrame\n",
    "* Export the city data into a .csv.\n",
    "* Display the DataFrame"
   ]
  },
  {
   "cell_type": "code",
   "execution_count": 15,
   "metadata": {},
   "outputs": [
    {
     "data": {
      "text/html": [
       "<div>\n",
       "<style scoped>\n",
       "    .dataframe tbody tr th:only-of-type {\n",
       "        vertical-align: middle;\n",
       "    }\n",
       "\n",
       "    .dataframe tbody tr th {\n",
       "        vertical-align: top;\n",
       "    }\n",
       "\n",
       "    .dataframe thead th {\n",
       "        text-align: right;\n",
       "    }\n",
       "</style>\n",
       "<table border=\"1\" class=\"dataframe\">\n",
       "  <thead>\n",
       "    <tr style=\"text-align: right;\">\n",
       "      <th></th>\n",
       "      <th>City</th>\n",
       "      <th>Lat</th>\n",
       "      <th>Lng</th>\n",
       "      <th>Max Temp</th>\n",
       "      <th>Humidity</th>\n",
       "      <th>Cloudiness</th>\n",
       "      <th>Wind Speed</th>\n",
       "      <th>Country</th>\n",
       "      <th>Date</th>\n",
       "    </tr>\n",
       "    <tr>\n",
       "      <th>City ID</th>\n",
       "      <th></th>\n",
       "      <th></th>\n",
       "      <th></th>\n",
       "      <th></th>\n",
       "      <th></th>\n",
       "      <th></th>\n",
       "      <th></th>\n",
       "      <th></th>\n",
       "      <th></th>\n",
       "    </tr>\n",
       "  </thead>\n",
       "  <tbody>\n",
       "    <tr>\n",
       "      <th>0</th>\n",
       "      <td>Vestmanna</td>\n",
       "      <td>62.1564</td>\n",
       "      <td>-7.1664</td>\n",
       "      <td>10.51</td>\n",
       "      <td>100</td>\n",
       "      <td>90</td>\n",
       "      <td>3.09</td>\n",
       "      <td>FO</td>\n",
       "      <td>1627592250</td>\n",
       "    </tr>\n",
       "    <tr>\n",
       "      <th>1</th>\n",
       "      <td>Hilo</td>\n",
       "      <td>19.7297</td>\n",
       "      <td>-155.0900</td>\n",
       "      <td>27.36</td>\n",
       "      <td>89</td>\n",
       "      <td>100</td>\n",
       "      <td>1.79</td>\n",
       "      <td>US</td>\n",
       "      <td>1627592250</td>\n",
       "    </tr>\n",
       "    <tr>\n",
       "      <th>2</th>\n",
       "      <td>Bonfim</td>\n",
       "      <td>3.0833</td>\n",
       "      <td>-59.9500</td>\n",
       "      <td>23.96</td>\n",
       "      <td>88</td>\n",
       "      <td>98</td>\n",
       "      <td>1.55</td>\n",
       "      <td>BR</td>\n",
       "      <td>1627592250</td>\n",
       "    </tr>\n",
       "    <tr>\n",
       "      <th>3</th>\n",
       "      <td>Guerrero Negro</td>\n",
       "      <td>27.9769</td>\n",
       "      <td>-114.0611</td>\n",
       "      <td>26.97</td>\n",
       "      <td>59</td>\n",
       "      <td>6</td>\n",
       "      <td>7.08</td>\n",
       "      <td>MX</td>\n",
       "      <td>1627592250</td>\n",
       "    </tr>\n",
       "    <tr>\n",
       "      <th>4</th>\n",
       "      <td>Arraial do Cabo</td>\n",
       "      <td>-22.9661</td>\n",
       "      <td>-42.0278</td>\n",
       "      <td>20.98</td>\n",
       "      <td>51</td>\n",
       "      <td>75</td>\n",
       "      <td>7.20</td>\n",
       "      <td>BR</td>\n",
       "      <td>1627592251</td>\n",
       "    </tr>\n",
       "  </tbody>\n",
       "</table>\n",
       "</div>"
      ],
      "text/plain": [
       "                    City      Lat       Lng  Max Temp  Humidity  Cloudiness  \\\n",
       "City ID                                                                       \n",
       "0              Vestmanna  62.1564   -7.1664     10.51       100          90   \n",
       "1                   Hilo  19.7297 -155.0900     27.36        89         100   \n",
       "2                 Bonfim   3.0833  -59.9500     23.96        88          98   \n",
       "3         Guerrero Negro  27.9769 -114.0611     26.97        59           6   \n",
       "4        Arraial do Cabo -22.9661  -42.0278     20.98        51          75   \n",
       "\n",
       "         Wind Speed Country        Date  \n",
       "City ID                                  \n",
       "0              3.09      FO  1627592250  \n",
       "1              1.79      US  1627592250  \n",
       "2              1.55      BR  1627592250  \n",
       "3              7.08      MX  1627592250  \n",
       "4              7.20      BR  1627592251  "
      ]
     },
     "execution_count": 15,
     "metadata": {},
     "output_type": "execute_result"
    }
   ],
   "source": [
    "city_summary = pd.DataFrame({\n",
    "    \"City\" : city_list,\n",
    "    \"Lat\": lat_list,\n",
    "    \"Lng\": lng_list,\n",
    "    \"Max Temp\" : max_temp_list,\n",
    "    \"Humidity\" : humidity_list,   \n",
    "    \"Cloudiness\": cloudiness_list,\n",
    "    \"Wind Speed\" : wind_speed_list,\n",
    "    \"Country\" : country_list,\n",
    "    \"Date\" : date_list\n",
    "})\n",
    "\n",
    "#convert to celcius\n",
    "#lambda takes the dataframe as value x and uses its temp column to reutrn a value converted to celc\n",
    "city_summary[\"Max Temp\"] = city_summary.apply(lambda x: (x[\"Max Temp\"]-273.15),axis=1)\n",
    "\n",
    "#export csv\n",
    "city_summary.index.name='City ID'\n",
    "city_summary.to_csv(\"../output_data/cities\")\n",
    "\n",
    "#display in dataframe\n",
    "city_summary.head()"
   ]
  },
  {
   "cell_type": "code",
   "execution_count": 16,
   "metadata": {},
   "outputs": [
    {
     "data": {
      "text/html": [
       "<div>\n",
       "<style scoped>\n",
       "    .dataframe tbody tr th:only-of-type {\n",
       "        vertical-align: middle;\n",
       "    }\n",
       "\n",
       "    .dataframe tbody tr th {\n",
       "        vertical-align: top;\n",
       "    }\n",
       "\n",
       "    .dataframe thead th {\n",
       "        text-align: right;\n",
       "    }\n",
       "</style>\n",
       "<table border=\"1\" class=\"dataframe\">\n",
       "  <thead>\n",
       "    <tr style=\"text-align: right;\">\n",
       "      <th></th>\n",
       "      <th>Lat</th>\n",
       "      <th>Lng</th>\n",
       "      <th>Max Temp</th>\n",
       "      <th>Humidity</th>\n",
       "      <th>Cloudiness</th>\n",
       "      <th>Wind Speed</th>\n",
       "      <th>Date</th>\n",
       "    </tr>\n",
       "  </thead>\n",
       "  <tbody>\n",
       "    <tr>\n",
       "      <th>count</th>\n",
       "      <td>549.000000</td>\n",
       "      <td>549.000000</td>\n",
       "      <td>549.000000</td>\n",
       "      <td>549.000000</td>\n",
       "      <td>549.000000</td>\n",
       "      <td>549.000000</td>\n",
       "      <td>5.490000e+02</td>\n",
       "    </tr>\n",
       "    <tr>\n",
       "      <th>mean</th>\n",
       "      <td>20.105550</td>\n",
       "      <td>15.598938</td>\n",
       "      <td>20.552860</td>\n",
       "      <td>69.255009</td>\n",
       "      <td>51.440801</td>\n",
       "      <td>3.373515</td>\n",
       "      <td>1.627593e+09</td>\n",
       "    </tr>\n",
       "    <tr>\n",
       "      <th>std</th>\n",
       "      <td>33.127902</td>\n",
       "      <td>91.220836</td>\n",
       "      <td>8.231477</td>\n",
       "      <td>21.159729</td>\n",
       "      <td>38.639437</td>\n",
       "      <td>2.404553</td>\n",
       "      <td>2.310453e+02</td>\n",
       "    </tr>\n",
       "    <tr>\n",
       "      <th>min</th>\n",
       "      <td>-54.800000</td>\n",
       "      <td>-179.166700</td>\n",
       "      <td>-3.120000</td>\n",
       "      <td>11.000000</td>\n",
       "      <td>0.000000</td>\n",
       "      <td>0.000000</td>\n",
       "      <td>1.627592e+09</td>\n",
       "    </tr>\n",
       "    <tr>\n",
       "      <th>25%</th>\n",
       "      <td>-7.938600</td>\n",
       "      <td>-64.798100</td>\n",
       "      <td>14.390000</td>\n",
       "      <td>55.000000</td>\n",
       "      <td>10.000000</td>\n",
       "      <td>1.660000</td>\n",
       "      <td>1.627592e+09</td>\n",
       "    </tr>\n",
       "    <tr>\n",
       "      <th>50%</th>\n",
       "      <td>23.116700</td>\n",
       "      <td>18.423200</td>\n",
       "      <td>21.410000</td>\n",
       "      <td>75.000000</td>\n",
       "      <td>55.000000</td>\n",
       "      <td>2.710000</td>\n",
       "      <td>1.627593e+09</td>\n",
       "    </tr>\n",
       "    <tr>\n",
       "      <th>75%</th>\n",
       "      <td>48.005600</td>\n",
       "      <td>96.733300</td>\n",
       "      <td>26.280000</td>\n",
       "      <td>86.000000</td>\n",
       "      <td>90.000000</td>\n",
       "      <td>4.520000</td>\n",
       "      <td>1.627593e+09</td>\n",
       "    </tr>\n",
       "    <tr>\n",
       "      <th>max</th>\n",
       "      <td>78.218600</td>\n",
       "      <td>179.316700</td>\n",
       "      <td>41.910000</td>\n",
       "      <td>100.000000</td>\n",
       "      <td>100.000000</td>\n",
       "      <td>16.710000</td>\n",
       "      <td>1.627593e+09</td>\n",
       "    </tr>\n",
       "  </tbody>\n",
       "</table>\n",
       "</div>"
      ],
      "text/plain": [
       "              Lat         Lng    Max Temp    Humidity  Cloudiness  Wind Speed  \\\n",
       "count  549.000000  549.000000  549.000000  549.000000  549.000000  549.000000   \n",
       "mean    20.105550   15.598938   20.552860   69.255009   51.440801    3.373515   \n",
       "std     33.127902   91.220836    8.231477   21.159729   38.639437    2.404553   \n",
       "min    -54.800000 -179.166700   -3.120000   11.000000    0.000000    0.000000   \n",
       "25%     -7.938600  -64.798100   14.390000   55.000000   10.000000    1.660000   \n",
       "50%     23.116700   18.423200   21.410000   75.000000   55.000000    2.710000   \n",
       "75%     48.005600   96.733300   26.280000   86.000000   90.000000    4.520000   \n",
       "max     78.218600  179.316700   41.910000  100.000000  100.000000   16.710000   \n",
       "\n",
       "               Date  \n",
       "count  5.490000e+02  \n",
       "mean   1.627593e+09  \n",
       "std    2.310453e+02  \n",
       "min    1.627592e+09  \n",
       "25%    1.627592e+09  \n",
       "50%    1.627593e+09  \n",
       "75%    1.627593e+09  \n",
       "max    1.627593e+09  "
      ]
     },
     "execution_count": 16,
     "metadata": {},
     "output_type": "execute_result"
    }
   ],
   "source": [
    "#inspect data\n",
    "city_summary.describe()"
   ]
  },
  {
   "cell_type": "markdown",
   "metadata": {},
   "source": [
    "## Inspect the data and remove the cities where the humidity > 100%.\n",
    "----\n",
    "Skip this step if there are no cities that have humidity > 100%. "
   ]
  },
  {
   "cell_type": "code",
   "execution_count": 17,
   "metadata": {},
   "outputs": [
    {
     "data": {
      "text/html": [
       "<div>\n",
       "<style scoped>\n",
       "    .dataframe tbody tr th:only-of-type {\n",
       "        vertical-align: middle;\n",
       "    }\n",
       "\n",
       "    .dataframe tbody tr th {\n",
       "        vertical-align: top;\n",
       "    }\n",
       "\n",
       "    .dataframe thead th {\n",
       "        text-align: right;\n",
       "    }\n",
       "</style>\n",
       "<table border=\"1\" class=\"dataframe\">\n",
       "  <thead>\n",
       "    <tr style=\"text-align: right;\">\n",
       "      <th></th>\n",
       "      <th>Lat</th>\n",
       "      <th>Lng</th>\n",
       "      <th>Max Temp</th>\n",
       "      <th>Humidity</th>\n",
       "      <th>Cloudiness</th>\n",
       "      <th>Wind Speed</th>\n",
       "      <th>Date</th>\n",
       "    </tr>\n",
       "  </thead>\n",
       "  <tbody>\n",
       "    <tr>\n",
       "      <th>count</th>\n",
       "      <td>549.000000</td>\n",
       "      <td>549.000000</td>\n",
       "      <td>549.000000</td>\n",
       "      <td>549.000000</td>\n",
       "      <td>549.000000</td>\n",
       "      <td>549.000000</td>\n",
       "      <td>5.490000e+02</td>\n",
       "    </tr>\n",
       "    <tr>\n",
       "      <th>mean</th>\n",
       "      <td>20.105550</td>\n",
       "      <td>15.598938</td>\n",
       "      <td>20.552860</td>\n",
       "      <td>69.255009</td>\n",
       "      <td>51.440801</td>\n",
       "      <td>3.373515</td>\n",
       "      <td>1.627593e+09</td>\n",
       "    </tr>\n",
       "    <tr>\n",
       "      <th>std</th>\n",
       "      <td>33.127902</td>\n",
       "      <td>91.220836</td>\n",
       "      <td>8.231477</td>\n",
       "      <td>21.159729</td>\n",
       "      <td>38.639437</td>\n",
       "      <td>2.404553</td>\n",
       "      <td>2.310453e+02</td>\n",
       "    </tr>\n",
       "    <tr>\n",
       "      <th>min</th>\n",
       "      <td>-54.800000</td>\n",
       "      <td>-179.166700</td>\n",
       "      <td>-3.120000</td>\n",
       "      <td>11.000000</td>\n",
       "      <td>0.000000</td>\n",
       "      <td>0.000000</td>\n",
       "      <td>1.627592e+09</td>\n",
       "    </tr>\n",
       "    <tr>\n",
       "      <th>25%</th>\n",
       "      <td>-7.938600</td>\n",
       "      <td>-64.798100</td>\n",
       "      <td>14.390000</td>\n",
       "      <td>55.000000</td>\n",
       "      <td>10.000000</td>\n",
       "      <td>1.660000</td>\n",
       "      <td>1.627592e+09</td>\n",
       "    </tr>\n",
       "    <tr>\n",
       "      <th>50%</th>\n",
       "      <td>23.116700</td>\n",
       "      <td>18.423200</td>\n",
       "      <td>21.410000</td>\n",
       "      <td>75.000000</td>\n",
       "      <td>55.000000</td>\n",
       "      <td>2.710000</td>\n",
       "      <td>1.627593e+09</td>\n",
       "    </tr>\n",
       "    <tr>\n",
       "      <th>75%</th>\n",
       "      <td>48.005600</td>\n",
       "      <td>96.733300</td>\n",
       "      <td>26.280000</td>\n",
       "      <td>86.000000</td>\n",
       "      <td>90.000000</td>\n",
       "      <td>4.520000</td>\n",
       "      <td>1.627593e+09</td>\n",
       "    </tr>\n",
       "    <tr>\n",
       "      <th>max</th>\n",
       "      <td>78.218600</td>\n",
       "      <td>179.316700</td>\n",
       "      <td>41.910000</td>\n",
       "      <td>100.000000</td>\n",
       "      <td>100.000000</td>\n",
       "      <td>16.710000</td>\n",
       "      <td>1.627593e+09</td>\n",
       "    </tr>\n",
       "  </tbody>\n",
       "</table>\n",
       "</div>"
      ],
      "text/plain": [
       "              Lat         Lng    Max Temp    Humidity  Cloudiness  Wind Speed  \\\n",
       "count  549.000000  549.000000  549.000000  549.000000  549.000000  549.000000   \n",
       "mean    20.105550   15.598938   20.552860   69.255009   51.440801    3.373515   \n",
       "std     33.127902   91.220836    8.231477   21.159729   38.639437    2.404553   \n",
       "min    -54.800000 -179.166700   -3.120000   11.000000    0.000000    0.000000   \n",
       "25%     -7.938600  -64.798100   14.390000   55.000000   10.000000    1.660000   \n",
       "50%     23.116700   18.423200   21.410000   75.000000   55.000000    2.710000   \n",
       "75%     48.005600   96.733300   26.280000   86.000000   90.000000    4.520000   \n",
       "max     78.218600  179.316700   41.910000  100.000000  100.000000   16.710000   \n",
       "\n",
       "               Date  \n",
       "count  5.490000e+02  \n",
       "mean   1.627593e+09  \n",
       "std    2.310453e+02  \n",
       "min    1.627592e+09  \n",
       "25%    1.627592e+09  \n",
       "50%    1.627593e+09  \n",
       "75%    1.627593e+09  \n",
       "max    1.627593e+09  "
      ]
     },
     "execution_count": 17,
     "metadata": {},
     "output_type": "execute_result"
    }
   ],
   "source": [
    "#removes data\n",
    "city_weather_df = city_summary[city_summary[\"Humidity\"] <= 100]\n",
    "\n",
    "#checks no humidity over 100 to ensure functioning properly\n",
    "city_weather_df.describe()"
   ]
  },
  {
   "cell_type": "code",
   "execution_count": 18,
   "metadata": {},
   "outputs": [
    {
     "data": {
      "text/html": [
       "<div>\n",
       "<style scoped>\n",
       "    .dataframe tbody tr th:only-of-type {\n",
       "        vertical-align: middle;\n",
       "    }\n",
       "\n",
       "    .dataframe tbody tr th {\n",
       "        vertical-align: top;\n",
       "    }\n",
       "\n",
       "    .dataframe thead th {\n",
       "        text-align: right;\n",
       "    }\n",
       "</style>\n",
       "<table border=\"1\" class=\"dataframe\">\n",
       "  <thead>\n",
       "    <tr style=\"text-align: right;\">\n",
       "      <th></th>\n",
       "      <th>City</th>\n",
       "      <th>Lat</th>\n",
       "      <th>Lng</th>\n",
       "      <th>Max Temp</th>\n",
       "      <th>Humidity</th>\n",
       "      <th>Cloudiness</th>\n",
       "      <th>Wind Speed</th>\n",
       "      <th>Country</th>\n",
       "      <th>Date</th>\n",
       "    </tr>\n",
       "    <tr>\n",
       "      <th>City ID</th>\n",
       "      <th></th>\n",
       "      <th></th>\n",
       "      <th></th>\n",
       "      <th></th>\n",
       "      <th></th>\n",
       "      <th></th>\n",
       "      <th></th>\n",
       "      <th></th>\n",
       "      <th></th>\n",
       "    </tr>\n",
       "  </thead>\n",
       "  <tbody>\n",
       "  </tbody>\n",
       "</table>\n",
       "</div>"
      ],
      "text/plain": [
       "Empty DataFrame\n",
       "Columns: [City, Lat, Lng, Max Temp, Humidity, Cloudiness, Wind Speed, Country, Date]\n",
       "Index: []"
      ]
     },
     "execution_count": 18,
     "metadata": {},
     "output_type": "execute_result"
    }
   ],
   "source": [
    "#  gathers all removed data\n",
    "humid_over_100 =  city_summary[city_summary[\"Humidity\"] > 100]\n",
    "\n",
    "\n",
    "# shows all removed data\n",
    "humid_over_100"
   ]
  },
  {
   "cell_type": "markdown",
   "metadata": {},
   "source": [
    "## Plotting the Data\n",
    "* Use proper labeling of the plots using plot titles (including date of analysis) and axes labels.\n",
    "* Save the plotted figures as .pngs."
   ]
  },
  {
   "cell_type": "markdown",
   "metadata": {},
   "source": [
    "## Latitude vs. Temperature Plot"
   ]
  },
  {
   "cell_type": "code",
   "execution_count": 19,
   "metadata": {
    "scrolled": true
   },
   "outputs": [
    {
     "data": {
      "image/png": "[encoded data removed]",
      "text/plain": [
       "<Figure size 432x288 with 1 Axes>"
      ]
     },
     "metadata": {
      "needs_background": "light"
     },
     "output_type": "display_data"
    }
   ],
   "source": [
    "ax = city_weather_df.plot(kind=\"scatter\", x=\"Lat\", y=\"Max Temp\")\n",
    "plt.title(f\"City Latitude AgainstTemperature: {today}\")\n",
    "plt.xlabel(\"Latitude\")\n",
    "plt.ylabel(\"Temperature (°C)\")\n",
    "plt.tight_layout()\n",
    "plt.grid()\n",
    "\n",
    "ax.figure.savefig(\"../output_data/fig1\")"
   ]
  },
  {
   "cell_type": "markdown",
   "metadata": {},
   "source": [
    "This plot models the relationship between the distance from the equator and the max tempurature of a country.\n",
    "\n",
    "We can see countries closer to the eqautor have higher max tempuratures. As the Earth is closest to the sun at the equator. Temperatures decrease sharply as latitud deviates from 0. "
   ]
  },
  {
   "cell_type": "markdown",
   "metadata": {},
   "source": [
    "## Latitude vs. Humidity Plot"
   ]
  },
  {
   "cell_type": "code",
   "execution_count": 20,
   "metadata": {},
   "outputs": [
    {
     "data": {
      "image/png": "[encoded data removed]",
      "text/plain": [
       "<Figure size 432x288 with 1 Axes>"
      ]
     },
     "metadata": {
      "needs_background": "light"
     },
     "output_type": "display_data"
    }
   ],
   "source": [
    "ax = city_weather_df.plot(kind=\"scatter\", x=\"Lat\", y=\"Humidity\")\n",
    "plt.title(f\"City Latitude Against Humidity: {today}\")\n",
    "plt.xlabel(\"Latitude\")\n",
    "plt.ylabel(\"Humidity\")\n",
    "plt.tight_layout()\n",
    "plt.grid()\n",
    "\n",
    "ax.figure.savefig(\"../output_data/fig2\")"
   ]
  },
  {
   "cell_type": "markdown",
   "metadata": {},
   "source": [
    "There is not a strong correlation between latitude and humidity. However we can observe a potential spike in humidity closer to the equator (due to the higher tempurature). In our sample, it is more likely for a city to have a higher humidty. "
   ]
  },
  {
   "cell_type": "markdown",
   "metadata": {},
   "source": [
    "## Latitude vs. Cloudiness Plot"
   ]
  },
  {
   "cell_type": "code",
   "execution_count": 21,
   "metadata": {},
   "outputs": [
    {
     "data": {
      "image/png": "[encoded data removed]",
      "text/plain": [
       "<Figure size 432x288 with 1 Axes>"
      ]
     },
     "metadata": {
      "needs_background": "light"
     },
     "output_type": "display_data"
    }
   ],
   "source": [
    "ax = city_weather_df.plot(kind=\"scatter\", x=\"Lat\", y=\"Cloudiness\")\n",
    "plt.title(f\"City Latitude Against Cloudines: {today}\")\n",
    "plt.xlabel(\"Latitude\")\n",
    "plt.ylabel(\"Cloudiness\")\n",
    "plt.tight_layout()\n",
    "plt.grid()\n",
    "\n",
    "ax.figure.savefig(\"../output_data/fig3\")"
   ]
  },
  {
   "cell_type": "markdown",
   "metadata": {},
   "source": [
    "We can see in our data the cities gravitate towards high or low levels of cloudiness. Although this does not seem to be affected by latitude, it is noteable that cities fall towards more absolute levels of cloudiness. "
   ]
  },
  {
   "cell_type": "markdown",
   "metadata": {},
   "source": [
    "## Latitude vs. Wind Speed Plot"
   ]
  },
  {
   "cell_type": "code",
   "execution_count": 22,
   "metadata": {},
   "outputs": [
    {
     "data": {
      "image/png": "[encoded data removed]",
      "text/plain": [
       "<Figure size 432x288 with 1 Axes>"
      ]
     },
     "metadata": {
      "needs_background": "light"
     },
     "output_type": "display_data"
    }
   ],
   "source": [
    "ax = city_weather_df.plot(kind=\"scatter\", x=\"Lat\", y=\"Wind Speed\")\n",
    "plt.title(f\"City Latitude Against Wind Speed: {today}\")\n",
    "plt.xlabel(\"Latitude\")\n",
    "plt.ylabel(\"Wind Speed\")\n",
    "plt.tight_layout()\n",
    "plt.grid()\n",
    "\n",
    "ax.figure.savefig(\"../output_data/fig4\")"
   ]
  },
  {
   "cell_type": "markdown",
   "metadata": {},
   "source": [
    "We can see a small, albeit not very significant trend between moving away from the southern hemisphere and a decrease in wind speeds for a city."
   ]
  },
  {
   "cell_type": "markdown",
   "metadata": {},
   "source": [
    "## Linear Regression"
   ]
  },
  {
   "cell_type": "code",
   "execution_count": 23,
   "metadata": {},
   "outputs": [
    {
     "data": {
      "text/plain": [
       "{'North Max Temp': 33.099261350329556,\n",
       " 'South Max Temp': 26.066017858443878,\n",
       " 'North Humidity': 67.10721368438769,\n",
       " 'South Humidity': 71.03360928271563,\n",
       " 'North Cloudiness': 58.57330207959698,\n",
       " 'South Cloudiness': 46.690912741312026,\n",
       " 'North Wind Speed': 3.933203037089556,\n",
       " 'South Wind Speed': 2.6671646447135453}"
      ]
     },
     "execution_count": 23,
     "metadata": {},
     "output_type": "execute_result"
    }
   ],
   "source": [
    "north_hem_df = city_weather_df[city_weather_df[\"Lat\"] >= 0]\n",
    "south_hem_df = city_weather_df[city_weather_df[\"Lat\"] < 0]\n",
    "\n",
    "x_axis = \"Lat\"\n",
    "y_axes = [\"Max Temp\",\"Humidity\",\"Cloudiness\",\"Wind Speed\"]\n",
    "line_regress_dict = {}\n",
    "south_dict = {}\n",
    "slope_dict = {} \n",
    "intercept_dict = {}\n",
    "\n",
    "for y_axis in y_axes:\n",
    "    x_values = north_hem_df[\"Lat\"]\n",
    "    y_values = north_hem_df[y_axis]\n",
    "    slope, intercept, rvalue, pvalue, stderr = linregress(x_values, y_values)\n",
    "    regress_values = x_values * slope + intercept\n",
    "    line_regress_dict[\"North {0}\".format(y_axis)] = regress_values\n",
    "    slope_dict[\"North {0}\".format(y_axis)] = slope\n",
    "    intercept_dict[\"North {0}\".format(y_axis)] = intercept\n",
    "    \n",
    "    x_values = south_hem_df[\"Lat\"]\n",
    "    y_values = south_hem_df[y_axis]\n",
    "    slope, intercept, rvalue, pvalue, stderr = linregress(x_values, y_values)\n",
    "    regress_values = x_values * slope + intercept\n",
    "    line_regress_dict[\"South {0}\".format(y_axis)] = regress_values\n",
    "    slope_dict[\"South {0}\".format(y_axis)] = slope\n",
    "    intercept_dict[\"South {0}\".format(y_axis)] = intercept\n",
    "    \n",
    "intercept_dict"
   ]
  },
  {
   "cell_type": "markdown",
   "metadata": {},
   "source": [
    "####  Northern Hemisphere - Max Temp vs. Latitude Linear Regression"
   ]
  },
  {
   "cell_type": "code",
   "execution_count": 24,
   "metadata": {
    "scrolled": true
   },
   "outputs": [
    {
     "data": {
      "image/png": "[encoded data removed]",
      "text/plain": [
       "<Figure size 432x288 with 1 Axes>"
      ]
     },
     "metadata": {
      "needs_background": "light"
     },
     "output_type": "display_data"
    }
   ],
   "source": [
    "north_hem_df.plot(kind=\"scatter\", x=\"Lat\", y=\"Max Temp\")\n",
    "plt.title(f\"Northern Hemisphere - Max Temp vs. Latitude: {today}\")\n",
    "plt.xlabel(\"Latitude\")\n",
    "plt.ylabel(\"Temperature (°C)\")\n",
    "plt.plot(north_hem_df[\"Lat\"],line_regress_dict[\"North Max Temp\"],\"r-\")\n",
    "line_eq = \"y = \" + str(round(slope_dict[\"North Max Temp\"],2)) + \"x + \" + str(round(intercept_dict[\"North Max Temp\"],2))\n",
    "plt.annotate(line_eq,(10,10),fontsize=15,color=\"red\")\n",
    "plt.tight_layout()"
   ]
  },
  {
   "cell_type": "markdown",
   "metadata": {},
   "source": [
    "####  Southern Hemisphere - Max Temp vs. Latitude Linear Regression"
   ]
  },
  {
   "cell_type": "code",
   "execution_count": 25,
   "metadata": {},
   "outputs": [
    {
     "data": {
      "image/png": "[encoded data removed]",
      "text/plain": [
       "<Figure size 432x288 with 1 Axes>"
      ]
     },
     "metadata": {
      "needs_background": "light"
     },
     "output_type": "display_data"
    }
   ],
   "source": [
    "south_hem_df.plot(kind=\"scatter\", x=\"Lat\", y=\"Max Temp\")\n",
    "plt.title(f\"Southern Hemisphere - Max Temp vs. Latitude: {today}\")\n",
    "plt.xlabel(\"Latitude\")\n",
    "plt.ylabel(\"Temperature (°C)\")\n",
    "plt.plot(south_hem_df[\"Lat\"],line_regress_dict[\"South Max Temp\"],\"r-\")\n",
    "line_eq = \"y = \" + str(round(slope_dict[\"South Max Temp\"],2)) + \"x + \" + str(round(intercept_dict[\"South Max Temp\"],2))\n",
    "plt.annotate(line_eq,(-50,30),fontsize=15,color=\"red\")\n",
    "plt.tight_layout()\n"
   ]
  },
  {
   "cell_type": "markdown",
   "metadata": {},
   "source": [
    "We can see on each plot, as we lattitude gets closer to zero, the max tempurature increases. These plots show us that moving away from the equate will lead to lower maximum temperatures."
   ]
  },
  {
   "cell_type": "markdown",
   "metadata": {},
   "source": [
    "####  Northern Hemisphere - Humidity (%) vs. Latitude Linear Regression"
   ]
  },
  {
   "cell_type": "code",
   "execution_count": 26,
   "metadata": {},
   "outputs": [
    {
     "data": {
      "image/png": "[encoded data removed]",
      "text/plain": [
       "<Figure size 432x288 with 1 Axes>"
      ]
     },
     "metadata": {
      "needs_background": "light"
     },
     "output_type": "display_data"
    }
   ],
   "source": [
    "north_hem_df.plot(kind=\"scatter\", x=\"Lat\", y=\"Humidity\")\n",
    "plt.title(f\"Northern Hemisphere - Humidity vs. Latitude: {today}\")\n",
    "plt.xlabel(\"Latitude\")\n",
    "plt.ylabel(\"Humidity\")\n",
    "plt.plot(north_hem_df[\"Lat\"],line_regress_dict[\"North Humidity\"],\"r-\")\n",
    "line_eq = \"y = \" + str(round(slope_dict[\"North Humidity\"],2)) + \"x + \" + str(round(intercept_dict[\"North Humidity\"],2))\n",
    "plt.annotate(line_eq,(45,20),fontsize=15,color=\"red\")\n",
    "plt.tight_layout()\n"
   ]
  },
  {
   "cell_type": "markdown",
   "metadata": {},
   "source": [
    "####  Southern Hemisphere - Humidity (%) vs. Latitude Linear Regression"
   ]
  },
  {
   "cell_type": "code",
   "execution_count": 27,
   "metadata": {
    "scrolled": true
   },
   "outputs": [
    {
     "data": {
      "image/png": "[encoded data removed]",
      "text/plain": [
       "<Figure size 432x288 with 1 Axes>"
      ]
     },
     "metadata": {
      "needs_background": "light"
     },
     "output_type": "display_data"
    }
   ],
   "source": [
    "south_hem_df.plot(kind=\"scatter\", x=\"Lat\", y=\"Humidity\")\n",
    "plt.title(f\"Southern Hemisphere - Humidity vs. Latitude: {today}\")\n",
    "plt.xlabel(\"Latitude\")\n",
    "plt.ylabel(\"Humidity\")\n",
    "plt.plot(south_hem_df[\"Lat\"],line_regress_dict[\"South Humidity\"],\"r-\")\n",
    "line_eq = \"y = \" + str(round(slope_dict[\"South Humidity\"],2)) + \"x + \" + str(round(intercept_dict[\"South Humidity\"],2))\n",
    "plt.annotate(line_eq,(-55,30),fontsize=15,color=\"red\")\n",
    "plt.tight_layout()\n"
   ]
  },
  {
   "cell_type": "markdown",
   "metadata": {},
   "source": [
    "We can observe that both plotsshow a weak correlation away from 0 latitude. This is not significant enough to directly associate with the latitude, but does show consitenct in behaviour between the two hemispheres."
   ]
  },
  {
   "cell_type": "markdown",
   "metadata": {},
   "source": [
    "####  Northern Hemisphere - Cloudiness (%) vs. Latitude Linear Regression"
   ]
  },
  {
   "cell_type": "code",
   "execution_count": 28,
   "metadata": {},
   "outputs": [
    {
     "data": {
      "image/png": "[encoded data removed]",
      "text/plain": [
       "<Figure size 432x288 with 1 Axes>"
      ]
     },
     "metadata": {
      "needs_background": "light"
     },
     "output_type": "display_data"
    }
   ],
   "source": [
    "north_hem_df.plot(kind=\"scatter\", x=\"Lat\", y=\"Cloudiness\")\n",
    "plt.title(f\"Northern Hemisphere - Cloudiness vs. Latitude: {today}\")\n",
    "plt.xlabel(\"Latitude\")\n",
    "plt.ylabel(\"Cloudiness\")\n",
    "plt.plot(north_hem_df[\"Lat\"],line_regress_dict[\"North Cloudiness\"],\"r-\")\n",
    "line_eq = \"y = \" + str(round(slope_dict[\"North Cloudiness\"],2)) + \"x + \" + str(round(intercept_dict[\"North Cloudiness\"],2))\n",
    "plt.annotate(line_eq,(45,0),fontsize=15,color=\"red\")\n",
    "plt.tight_layout()"
   ]
  },
  {
   "cell_type": "markdown",
   "metadata": {},
   "source": [
    "####  Southern Hemisphere - Cloudiness (%) vs. Latitude Linear Regression"
   ]
  },
  {
   "cell_type": "code",
   "execution_count": 29,
   "metadata": {},
   "outputs": [
    {
     "data": {
      "image/png": "[encoded data removed]",
      "text/plain": [
       "<Figure size 432x288 with 1 Axes>"
      ]
     },
     "metadata": {
      "needs_background": "light"
     },
     "output_type": "display_data"
    }
   ],
   "source": [
    "south_hem_df.plot(kind=\"scatter\", x=\"Lat\", y=\"Cloudiness\")\n",
    "plt.title(f\"Southern Hemisphere - Cloudiness vs. Latitude: {today}\")\n",
    "plt.xlabel(\"Latitude\")\n",
    "plt.ylabel(\"Cloudiness\")\n",
    "plt.plot(south_hem_df[\"Lat\"],line_regress_dict[\"South Cloudiness\"],\"r-\")\n",
    "line_eq = \"y = \" + str(round(slope_dict[\"South Cloudiness\"],2)) + \"x + \" + str(round(intercept_dict[\"South Cloudiness\"],2))\n",
    "plt.annotate(line_eq,(-50,60),fontsize=15,color=\"red\")\n",
    "plt.tight_layout()"
   ]
  },
  {
   "cell_type": "markdown",
   "metadata": {},
   "source": [
    "Across both plots we can see a correlation between deviating from the equator and an increase in cloudiness. This can be explained and supported by the higher temperatures closer to 0 latitude. Warmer cities are more likely to experience less rain and consequently, less clouds."
   ]
  },
  {
   "cell_type": "markdown",
   "metadata": {},
   "source": [
    "####  Northern Hemisphere - Wind Speed (mph) vs. Latitude Linear Regression"
   ]
  },
  {
   "cell_type": "code",
   "execution_count": 30,
   "metadata": {},
   "outputs": [
    {
     "data": {
      "image/png": "[encoded data removed]",
      "text/plain": [
       "<Figure size 432x288 with 1 Axes>"
      ]
     },
     "metadata": {
      "needs_background": "light"
     },
     "output_type": "display_data"
    }
   ],
   "source": [
    "north_hem_df.plot(kind=\"scatter\", x=\"Lat\", y=\"Wind Speed\")\n",
    "plt.title(f\"Northern Hemisphere - Wind Speed vs. Latitude: {today}\")\n",
    "plt.xlabel(\"Latitude\")\n",
    "plt.ylabel(\"Wind Speed\")\n",
    "plt.plot(north_hem_df[\"Lat\"],line_regress_dict[\"North Wind Speed\"],\"r-\")\n",
    "line_eq = \"y = \" + str(round(slope_dict[\"North Wind Speed\"],2)) + \"x + \" + str(round(intercept_dict[\"North Wind Speed\"],2))\n",
    "plt.annotate(line_eq,(40,10),fontsize=15,color=\"red\")\n",
    "plt.tight_layout()"
   ]
  },
  {
   "cell_type": "markdown",
   "metadata": {},
   "source": [
    "####  Southern Hemisphere - Wind Speed (mph) vs. Latitude Linear Regression"
   ]
  },
  {
   "cell_type": "code",
   "execution_count": 31,
   "metadata": {},
   "outputs": [
    {
     "data": {
      "image/png": "[encoded data removed]",
      "text/plain": [
       "<Figure size 432x288 with 1 Axes>"
      ]
     },
     "metadata": {
      "needs_background": "light"
     },
     "output_type": "display_data"
    }
   ],
   "source": [
    "south_hem_df.plot(kind=\"scatter\", x=\"Lat\", y=\"Wind Speed\")\n",
    "plt.title(f\"Southern Hemisphere - Wind Speed vs. Latitude: {today}\")\n",
    "plt.xlabel(\"Latitude\")\n",
    "plt.ylabel(\"Wind Speed\")\n",
    "plt.plot(south_hem_df[\"Lat\"],line_regress_dict[\"South Wind Speed\"],\"r-\")\n",
    "line_eq = \"y = \" + str(round(slope_dict[\"South Wind Speed\"],2)) + \"x + \" + str(round(intercept_dict[\"South Wind Speed\"],2))\n",
    "plt.annotate(line_eq,(-25,10),fontsize=15,color=\"red\")\n",
    "plt.tight_layout()"
   ]
  },
  {
   "cell_type": "markdown",
   "metadata": {},
   "source": [
    "There is a moderate negative correlation in the southern hemisphere, showing a clear decrease in temperatures as we approach 0 latitude. However, this trend is much weaker with the northern hemisphere. As we deviate from the equator, wind speeds do continue to decrease as strongly as with in the lower hemisphere."
   ]
  },
  {
   "cell_type": "code",
   "execution_count": null,
   "metadata": {},
   "outputs": [],
   "source": []
  }
 ],
 "metadata": {
  "anaconda-cloud": {},
  "kernel_info": {
   "name": "python3"
  },
  "kernelspec": {
   "display_name": "Python 3 (ipykernel)",
   "language": "python",
   "name": "python3"
  },
  "language_info": {
   "codemirror_mode": {
    "name": "ipython",
    "version": 3
   },
   "file_extension": ".py",
   "mimetype": "text/x-python",
   "name": "python",
   "nbconvert_exporter": "python",
   "pygments_lexer": "ipython3",
   "version": "3.8.10"
  },
  "latex_envs": {
   "LaTeX_envs_menu_present": true,
   "autoclose": false,
   "autocomplete": true,
   "bibliofile": "biblio.bib",
   "cite_by": "apalike",
   "current_citInitial": 1,
   "eqLabelWithNumbers": true,
   "eqNumInitial": 1,
   "hotkeys": {
    "equation": "Ctrl-E",
    "itemize": "Ctrl-I"
   },
   "labels_anchors": false,
   "latex_user_defs": false,
   "report_style_numbering": false,
   "user_envs_cfg": false
  },
  "nteract": {
   "version": "0.12.3"
  }
 },
 "nbformat": 4,
 "nbformat_minor": 2
}
